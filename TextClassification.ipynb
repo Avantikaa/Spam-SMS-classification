{
  "cells": [
    {
      "metadata": {
        "trusted": true
      },
      "cell_type": "code",
      "source": "import sys\nimport nltk\nimport sklearn\nimport pandas\nimport numpy\n",
      "execution_count": 1,
      "outputs": []
    },
    {
      "metadata": {
        "trusted": true
      },
      "cell_type": "code",
      "source": "import pandas as pd\nimport numpy as np\n\n#load the dataset\ndata = pd.read_table('SMSSpamCollection', header = None, encoding = 'utf-8')",
      "execution_count": 2,
      "outputs": []
    },
    {
      "metadata": {
        "trusted": true
      },
      "cell_type": "code",
      "source": "print(data.info())\nprint(data.head())",
      "execution_count": 3,
      "outputs": [
        {
          "output_type": "stream",
          "text": "<class 'pandas.core.frame.DataFrame'>\nRangeIndex: 5572 entries, 0 to 5571\nData columns (total 2 columns):\n0    5572 non-null object\n1    5572 non-null object\ndtypes: object(2)\nmemory usage: 87.1+ KB\nNone\n      0                                                  1\n0   ham  Go until jurong point, crazy.. Available only ...\n1   ham                      Ok lar... Joking wif u oni...\n2  spam  Free entry in 2 a wkly comp to win FA Cup fina...\n3   ham  U dun say so early hor... U c already then say...\n4   ham  Nah I don't think he goes to usf, he lives aro...\n",
          "name": "stdout"
        }
      ]
    },
    {
      "metadata": {
        "trusted": true
      },
      "cell_type": "code",
      "source": "#check class distribution\nclasses = data[0]\nprint(classes.value_counts())",
      "execution_count": 4,
      "outputs": [
        {
          "output_type": "stream",
          "text": "ham     4825\nspam     747\nName: 0, dtype: int64\n",
          "name": "stdout"
        }
      ]
    },
    {
      "metadata": {
        "trusted": true
      },
      "cell_type": "code",
      "source": "#Now preprocess the data\n#convert class label to binary values/numeric values\nfrom sklearn.preprocessing import LabelEncoder\nencoder = LabelEncoder()\nY = encoder.fit_transform(classes)\n\nprint(classes[:10])\nprint(Y[:10])\n",
      "execution_count": 5,
      "outputs": [
        {
          "output_type": "stream",
          "text": "0     ham\n1     ham\n2    spam\n3     ham\n4     ham\n5    spam\n6     ham\n7     ham\n8    spam\n9    spam\nName: 0, dtype: object\n[0 0 1 0 0 1 0 0 1 1]\n",
          "name": "stdout"
        }
      ]
    },
    {
      "metadata": {
        "trusted": true
      },
      "cell_type": "code",
      "source": "# now store the text messages data\ntext_messages = data[1]\nprint(text_messages[:10])",
      "execution_count": 6,
      "outputs": [
        {
          "output_type": "stream",
          "text": "0    Go until jurong point, crazy.. Available only ...\n1                        Ok lar... Joking wif u oni...\n2    Free entry in 2 a wkly comp to win FA Cup fina...\n3    U dun say so early hor... U c already then say...\n4    Nah I don't think he goes to usf, he lives aro...\n5    FreeMsg Hey there darling it's been 3 week's n...\n6    Even my brother is not like to speak with me. ...\n7    As per your request 'Melle Melle (Oru Minnamin...\n8    WINNER!! As a valued network customer you have...\n9    Had your mobile 11 months or more? U R entitle...\nName: 1, dtype: object\n",
          "name": "stdout"
        }
      ]
    },
    {
      "metadata": {
        "trusted": true
      },
      "cell_type": "code",
      "source": "#now we need to get rid of insignificant data in the msgs that wont help in classification\n#like emailaddress, weburl, phone numbers, or any numbers or money symbols\n\n#processed = [re.sub(r'^.+@[^\\.].*\\.[a-z]{2,}$', 'emailaddr', x) for x in text_messages]\n\nprocessed = text_messages.str.replace(r'^.+@[^\\.].*\\.[a-z]{2,}$', 'emailaddr')",
      "execution_count": 7,
      "outputs": []
    },
    {
      "metadata": {
        "trusted": true
      },
      "cell_type": "code",
      "source": "\n#processed = [re.sub(r'^http\\://[a-zA-Z0-9\\-\\.]+\\.[a-zA-Z]{2,3}(/\\S*)?$', 'weburl', x) for x in processed]\n#processed = [re.sub(r'£|\\$', 'moneysymb', x) for x in processed]\n#processed = [re.sub(r'^\\(?[\\d]{3}\\)?[\\s-]?[\\d]{3}[\\s-]?[\\d]{4}$', 'phonenumber', x) for x in processed]\n#processed = [re.sub(r'\\d+(\\.\\d+)?', 'number', x) for x in processed]\n\nprocessed = processed.str.replace(r'^http\\://[a-zA-Z0-9\\-\\.]+\\.[a-zA-Z]{2,3}(/\\S*)?$', 'weburl')\nprocessed = processed.str.replace(r'£|\\$', 'moneysymb')\nprocessed = processed.str.replace(r'^\\(?[\\d]{3}\\)?[\\s-]?[\\d]{3}[\\s-]?[\\d]{4}$', 'phonenumber')\nprocessed = processed.str.replace(r'\\d+(\\.\\d+)?', 'number')\n\n",
      "execution_count": 8,
      "outputs": []
    },
    {
      "metadata": {
        "trusted": true
      },
      "cell_type": "code",
      "source": "#get rid of punctuation\n#processed = [re.sub(r'[^\\w\\d\\s]', '', x) for x in processed]\n\nprocessed= processed.str.replace(r'[^\\w\\d\\s]', ' ')\n\n#replace whitespaces between words with single space\n#processed = [re.sub(r'\\s+', ' ', x) for x in processed]\nprocessed= processed.str.replace(r'\\s+', ' ')\n\n#leadng and training white space\\\n#processed = [re.sub(r'^\\s+|\\s+?$', ' ', x) for x in processed]\nprocessed= processed.str.replace(r'^\\s+|\\s+?$', '')",
      "execution_count": 9,
      "outputs": []
    },
    {
      "metadata": {
        "trusted": true
      },
      "cell_type": "code",
      "source": "#changing the words to lower case\nprocessed= processed.str.lower()\nprint(processed)",
      "execution_count": 10,
      "outputs": [
        {
          "output_type": "stream",
          "text": "0       go until jurong point crazy available only in ...\n1                                 ok lar joking wif u oni\n2       free entry in number a wkly comp to win fa cup...\n3             u dun say so early hor u c already then say\n4       nah i don t think he goes to usf he lives arou...\n5       freemsg hey there darling it s been number wee...\n6       even my brother is not like to speak with me t...\n7       as per your request melle melle oru minnaminun...\n8       winner as a valued network customer you have b...\n9       had your mobile number months or more u r enti...\n10      i m gonna be home soon and i don t want to tal...\n11      six chances to win cash from number to number ...\n12      urgent you have won a number week free members...\n13      i ve been searching for the right words to tha...\n14                      i have a date on sunday with will\n15      xxxmobilemovieclub to use your credit click th...\n16                                 oh k i m watching here\n17      eh u remember how number spell his name yes i ...\n18      fine if that s the way u feel that s the way i...\n19      england v macedonia dont miss the goals team n...\n20               is that seriously how you spell his name\n21      i m going to try for number months ha ha only ...\n22         so ü pay first lar then when is da stock comin\n23      aft i finish my lunch then i go str down lor a...\n24      ffffffffff alright no way i can meet up with y...\n25      just forced myself to eat a slice i m really n...\n26                          lol your always so convincing\n27      did you catch the bus are you frying an egg di...\n28      i m back amp we re packing the car now i ll le...\n29      ahhh work i vaguely remember that what does it...\n                              ...                        \n5542             armand says get your ass over to epsilon\n5543                u still havent got urself a jacket ah\n5544    i m taking derek amp taylor to walmart if i m ...\n5545        hi its in durban are you still on this number\n5546             ic there are a lotta childporn cars then\n5547    had your contract mobile number mnths latest m...\n5548                     no i was trying it all weekend v\n5549    you know wot people wear t shirts jumpers hat ...\n5550            cool what time you think you can get here\n5551    wen did you get so spiritual and deep that s g...\n5552    have a safe trip to nigeria wish you happiness...\n5553                           hahaha use your brain dear\n5554    well keep in mind i ve only got enough gas for...\n5555    yeh indians was nice tho it did kane me off a ...\n5556    yes i have so that s why u texted pshew missin...\n5557    no i meant the calculation is the same that lt...\n5558                                sorry i ll call later\n5559    if you aren t here in the next lt gt hours imm...\n5560                      anything lor juz both of us lor\n5561    get me out of this dump heap my mom decided to...\n5562    ok lor sony ericsson salesman i ask shuhui the...\n5563                              ard number like dat lor\n5564    why don t you wait til at least wednesday to s...\n5565                                            huh y lei\n5566    reminder from onumber to get number pounds fre...\n5567    this is the numbernd time we have tried number...\n5568                  will ü b going to esplanade fr home\n5569    pity was in mood for that so any other suggest...\n5570    the guy did some bitching but i acted like i d...\n5571                            rofl its true to its name\nName: 1, Length: 5572, dtype: object\n",
          "name": "stdout"
        }
      ]
    },
    {
      "metadata": {
        "trusted": true
      },
      "cell_type": "code",
      "source": "#remove stop words\nimport nltk\nnltk.download('stopwords')\nfrom nltk.corpus import stopwords\nstop_words = set(stopwords.words(\"english\"))\nprocessed = processed.apply(lambda x: ' '.join(term for term in x.split() if term not in stop_words))",
      "execution_count": 11,
      "outputs": [
        {
          "output_type": "stream",
          "text": "[nltk_data] Downloading package stopwords to /home/nbuser/nltk_data...\n[nltk_data]   Package stopwords is already up-to-date!\n",
          "name": "stdout"
        }
      ]
    },
    {
      "metadata": {
        "trusted": true
      },
      "cell_type": "code",
      "source": "#stemming\nps = nltk.PorterStemmer()\nprocessed = processed.apply(lambda x: ' '.join(ps.stem(term) for term in x.split()))",
      "execution_count": 12,
      "outputs": []
    },
    {
      "metadata": {
        "trusted": true
      },
      "cell_type": "code",
      "source": "\nprint(processed)",
      "execution_count": 13,
      "outputs": [
        {
          "output_type": "stream",
          "text": "0       go jurong point crazi avail bugi n great world...\n1                                   ok lar joke wif u oni\n2       free entri number wkli comp win fa cup final t...\n3                     u dun say earli hor u c alreadi say\n4                    nah think goe usf live around though\n5       freemsg hey darl number week word back like fu...\n6           even brother like speak treat like aid patent\n7       per request mell mell oru minnaminungint nurun...\n8       winner valu network custom select receivea mon...\n9       mobil number month u r entitl updat latest col...\n10      gonna home soon want talk stuff anymor tonight...\n11      six chanc win cash number number number pound ...\n12      urgent number week free membership moneysymbnu...\n13      search right word thank breather promis wont t...\n14                                            date sunday\n15      xxxmobilemovieclub use credit click wap link n...\n16                                             oh k watch\n17      eh u rememb number spell name ye v naughti mak...\n18                             fine way u feel way gota b\n19      england v macedonia dont miss goal team news t...\n20                                     serious spell name\n21                         go tri number month ha ha joke\n22                         ü pay first lar da stock comin\n23      aft finish lunch go str lor ard number smth lo...\n24                     ffffffffff alright way meet sooner\n25      forc eat slice realli hungri tho suck mark get...\n26                                      lol alway convinc\n27      catch bu fri egg make tea eat mom left dinner ...\n28                        back amp pack car let know room\n29                    ahhh work vagu rememb feel like lol\n                              ...                        \n5542                           armand say get ass epsilon\n5543                  u still havent got urself jacket ah\n5544    take derek amp taylor walmart back time done l...\n5545                               hi durban still number\n5546                               ic lotta childporn car\n5547    contract mobil number mnth latest motorola nok...\n5548                                        tri weekend v\n5549    know wot peopl wear shirt jumper hat belt know...\n5550                                  cool time think get\n5551                           wen get spiritu deep great\n5552    safe trip nigeria wish happi soon compani shar...\n5553                                hahaha use brain dear\n5554    well keep mind got enough ga one round trip ba...\n5555    yeh indian nice tho kane bit shud go number dr...\n5556                            ye u text pshew miss much\n5557    meant calcul lt gt unit lt gt school realli ex...\n5558                                     sorri call later\n5559                       next lt gt hour imma flip shit\n5560                                 anyth lor juz us lor\n5561                get dump heap mom decid come low bore\n5562    ok lor soni ericsson salesman ask shuhui say q...\n5563                              ard number like dat lor\n5564                     wait til least wednesday see get\n5565                                              huh lei\n5566    remind onumb get number pound free call credit...\n5567    numbernd time tri number contact u u moneysymb...\n5568                              ü b go esplanad fr home\n5569                                    piti mood suggest\n5570    guy bitch act like interest buy someth els nex...\n5571                                       rofl true name\nName: 1, Length: 5572, dtype: object\n",
          "name": "stdout"
        }
      ]
    },
    {
      "metadata": {
        "trusted": true
      },
      "cell_type": "code",
      "source": "import nltk\nnltk.download('punkt')\n\nfrom nltk.tokenize import word_tokenize\n\n#creating bag of words model\nall_words= []\nfor message in processed:\n    words = word_tokenize(message)\n    for w in words:\n        all_words.append(w)\nall_words=nltk.FreqDist(all_words)\n\nprint(len(all_words))\nprint(all_words.most_common(15))\n        ",
      "execution_count": 14,
      "outputs": [
        {
          "output_type": "stream",
          "text": "[nltk_data] Downloading package punkt to /home/nbuser/nltk_data...\n[nltk_data]   Package punkt is already up-to-date!\n6574\n[('number', 2759), ('u', 1207), ('call', 674), ('go', 456), ('get', 451), ('ur', 391), ('gt', 318), ('lt', 316), ('come', 304), ('moneysymbnumb', 303), ('ok', 293), ('free', 284), ('day', 276), ('know', 275), ('love', 266)]\n",
          "name": "stdout"
        }
      ]
    },
    {
      "metadata": {
        "trusted": true
      },
      "cell_type": "code",
      "source": "#use 1500 most common words as features\nword_features = list(all_words.keys())[:1500]\nprint (word_features)",
      "execution_count": 15,
      "outputs": [
        {
          "output_type": "stream",
          "text": "['go', 'jurong', 'point', 'crazi', 'avail', 'bugi', 'n', 'great', 'world', 'la', 'e', 'buffet', 'cine', 'got', 'amor', 'wat', 'ok', 'lar', 'joke', 'wif', 'u', 'oni', 'free', 'entri', 'number', 'wkli', 'comp', 'win', 'fa', 'cup', 'final', 'tkt', 'numberst', 'may', 'text', 'receiv', 'question', 'std', 'txt', 'rate', 'c', 'appli', 'numberovernumb', 'dun', 'say', 'earli', 'hor', 'alreadi', 'nah', 'think', 'goe', 'usf', 'live', 'around', 'though', 'freemsg', 'hey', 'darl', 'week', 'word', 'back', 'like', 'fun', 'still', 'tb', 'xxx', 'chg', 'send', 'moneysymbnumb', 'rcv', 'even', 'brother', 'speak', 'treat', 'aid', 'patent', 'per', 'request', 'mell', 'oru', 'minnaminungint', 'nurungu', 'vettam', 'set', 'callertun', 'caller', 'press', 'copi', 'friend', 'winner', 'valu', 'network', 'custom', 'select', 'receivea', 'prize', 'reward', 'claim', 'call', 'code', 'klnumber', 'valid', 'hour', 'mobil', 'month', 'r', 'entitl', 'updat', 'latest', 'colour', 'camera', 'co', 'gon', 'na', 'home', 'soon', 'want', 'talk', 'stuff', 'anymor', 'tonight', 'k', 'cri', 'enough', 'today', 'six', 'chanc', 'cash', 'pound', 'cshnumber', 'cost', 'numberp', 'day', 'numberday', 'tsandc', 'repli', 'hl', 'info', 'urgent', 'membership', 'jackpot', 'www', 'dbuk', 'net', 'lccltd', 'pobox', 'numberldnwnumberanumberrwnumb', 'search', 'right', 'thank', 'breather', 'promis', 'wont', 'take', 'help', 'grant', 'fulfil', 'wonder', 'bless', 'time', 'date', 'sunday', 'xxxmobilemovieclub', 'use', 'credit', 'click', 'wap', 'link', 'next', 'messag', 'http', 'com', 'qjkgighjjgcbl', 'oh', 'watch', 'eh', 'rememb', 'spell', 'name', 'ye', 'v', 'naughti', 'make', 'wet', 'fine', 'way', 'feel', 'gota', 'b', 'england', 'macedonia', 'dont', 'miss', 'goal', 'team', 'news', 'ur', 'nation', 'eg', 'tri', 'wale', 'scotland', 'numbertxt', 'únumber', 'poboxoxnumberwnumberwq', 'serious', 'ha', 'ü', 'pay', 'first', 'da', 'stock', 'comin', 'aft', 'finish', 'lunch', 'str', 'lor', 'ard', 'smth', 'ffffffffff', 'alright', 'meet', 'sooner', 'forc', 'eat', 'slice', 'realli', 'hungri', 'tho', 'suck', 'mark', 'get', 'worri', 'know', 'sick', 'turn', 'pizza', 'lol', 'alway', 'convinc', 'catch', 'bu', 'fri', 'egg', 'tea', 'mom', 'left', 'dinner', 'love', 'amp', 'pack', 'car', 'let', 'room', 'ahhh', 'work', 'vagu', 'wait', 'clear', 'sure', 'sarcast', 'x', 'us', 'yeah', 'apologet', 'fallen', 'actin', 'spoilt', 'child', 'caught', 'till', 'badli', 'cheer', 'tell', 'anyth', 'fear', 'faint', 'housework', 'quick', 'cuppa', 'subscript', 'rington', 'uk', 'charg', 'pleas', 'confirm', 'yup', 'look', 'msg', 'xuhui', 'learn', 'numbernd', 'lesson', 'numberam', 'oop', 'roommat', 'done', 'see', 'letter', 'decid', 'hello', 'saturday', 'tomo', 'invit', 'pl', 'ahead', 'watt', 'weekend', 'abiola', 'forget', 'need', 'crave', 'sweet', 'arabian', 'steed', 'mmmmmm', 'yummi', 'rodger', 'burn', 'sm', 'nokia', 'camcord', 'deliveri', 'tomorrow', 'hope', 'man', 'well', 'endow', 'lt', 'gt', 'inch', 'hep', 'immunis', 'nigeria', 'fair', 'tyler', 'could', 'mayb', 'ask', 'bit', 'stubborn', 'hospit', 'kept', 'weak', 'sucker', 'saw', 'class', 'gram', 'usual', 'run', 'half', 'eighth', 'smarter', 'almost', 'whole', 'second', 'fyi', 'ride', 'morn', 'crash', 'place', 'wow', 'never', 'realiz', 'embarass', 'accomod', 'thought', 'sinc', 'best', 'seem', 'happi', 'cave', 'sorri', 'give', 'offer', 'ac', 'sptv', 'new', 'jersey', 'devil', 'detroit', 'red', 'wing', 'play', 'ice', 'hockey', 'correct', 'incorrect', 'end', 'mallika', 'sherawat', 'yesterday', 'find', 'url', 'congrat', 'year', 'special', 'cinema', 'pass', 'suprman', 'matrixnumb', 'starwarsnumb', 'etc', 'bxnumber', 'ipnumb', 'numberw', 'numberpm', 'later', 'reach', 'gauti', 'sehwag', 'odi', 'seri', 'pick', 'burger', 'move', 'pain', 'kill', 'good', 'girl', 'situat', 'seeker', 'part', 'check', 'iq', 'took', 'forev', 'come', 'doubl', 'hair', 'dresser', 'said', 'wun', 'cut', 'short', 'nice', 'advis', 'follow', 'recent', 'review', 'mob', 'award', 'bonu', 'song', 'dedic', 'valuabl', 'frnd', 'rpli', 'complimentari', 'trip', 'eurodisinc', 'trav', 'aco', 'entrynumb', 'di', 'morefrmmob', 'shracomorsglsuplt', 'lsnumber', 'numberaj', 'hear', 'divorc', 'barbi', 'ken', 'plane', 'wah', 'lucki', 'save', 'money', 'hee', 'hi', 'babe', 'im', 'wan', 'someth', 'xx', 'perform', 'machan', 'that', 'cool', 'gentleman', 'digniti', 'respect', 'peopl', 'much', 'shi', 'pa', 'oper', 'job', 'ta', 'earn', 'ah', 'stop', 'urgnt', 'real', 'yo', 'ticket', 'one', 'jacket', 'multi', 'start', 'came', 'bed', 'coin', 'factori', 'nitro', 'ela', 'kano', 'il', 'download', 'wen', 'stand', 'close', 'anoth', 'night', 'spent', 'late', 'afternoon', 'casualti', 'mean', 'stuffnumbermoro', 'includ', 'sheet', 'smile', 'pleasur', 'troubl', 'pour', 'rain', 'sumnumb', 'hurt', 'becoz', 'someon', 'servic', 'repres', 'guarante', 'havent', 'plan', 'buy', 'lido', 'show', 'collect', 'simpli', 'password', 'mix', 'verifi', 'usher', 'britney', 'fml', 'po', 'box', 'mknumber', 'numberh', 'numberppw', 'telugu', 'movi', 'abt', 'load', 'loan', 'wk', 'hol', 'forgot', 'hairdress', 'appoint', 'four', 'shower', 'beforehand', 'caus', 'prob', 'coffe', 'anim', 'noth', 'els', 'okay', 'price', 'long', 'legal', 'ave', 'am', 'gone', 'numberth', 'drive', 'test', 'yet', 'guess', 'gave', 'boston', 'men', 'chang', 'locat', 'nyc', 'cuz', 'signin', 'page', 'umma', 'life', 'vava', 'lot', 'dear', 'wish', 'birthday', 'truli', 'memor', 'aight', 'hit', 'would', 'ip', 'address', 'consid', 'comput', 'minecraft', 'server', 'grumpi', 'old', 'better', 'lie', 'busi', 'plural', 'noun', 'research', 'thing', 'scare', 'mah', 'loud', 'gent', 'contact', 'last', 'draw', 'knumber', 'numberhr', 'numberppm', 'wa', 'openin', 'sentenc', 'formal', 'anyway', 'juz', 'tt', 'eatin', 'puttin', 'weight', 'haha', 'anythin', 'happen', 'enter', 'cabin', 'boss', 'felt', 'askd', 'apart', 'went', 'holiday', 'flight', 'inc', 'min', 'goodo', 'must', 'friday', 'potato', 'ratio', 'tortilla', 'hmm', 'uncl', 'inform', 'school', 'directli', 'food', 'privat', 'account', 'statement', 'unredeem', 'identifi', 'expir', 'landlin', 'boxnumberwrnumberc', 'appl', 'pair', 'malarki', 'voda', 'match', 'quot', 'standard', 'app', 'sao', 'mu', 'predict', 'yetund', 'sent', 'bother', 'involv', 'impos', 'apologis', 'del', 'bak', 'sum', 'lucyxx', 'tmorrow', 'answer', 'sunshin', 'quiz', 'q', 'top', 'soni', 'dvd', 'player', 'countri', 'algarv', 'ansr', 'sp', 'tyron', 'laid', 'dog', 'direct', 'join', 'largest', 'bt', 'txting', 'gravel', 'nt', 'ecnumbera', 'emailaddr', 'befor', 'activ', 'chat', 'svc', 'hardcor', 'age', 'yr', 'lazi', 'type', 'lect', 'pouch', 'sir', 'mail', 'swt', 'nver', 'tire', 'littl', 'lovabl', 'person', 'coz', 'somtim', 'occupi', 'biggest', 'heart', 'gud', 'ninumb', 'open', 'ya', 'dot', 'what', 'staff', 'randi', 'sexi', 'femal', 'local', 'luv', 'netcollex', 'ltd', 'ummma', 'begin', 'qatar', 'pray', 'hard', 'delet', 'sindu', 'birla', 'soft', 'wine', 'flow', 'thk', 'plaza', 'typic', 'everywher', 'dirt', 'floor', 'window', 'shirt', 'sometim', 'mouth', 'dream', 'without', 'chore', 'joy', 'tv', 'exist', 'hail', 'mist', 'becom', 'aaooooright', 'leav', 'hous', 'interview', 'boy', 'annonc', 'arrang', 'keep', 'safe', 'envi', 'everyon', 'parent', 'hand', 'excit', 'spend', 'bootydeli', 'f', 'bangbab', 'order', 'content', 'goto', 'bangb', 'internet', 'menu', 'cultur', 'modul', 'snumber', 'avoid', 'missunderstd', 'wit', 'belov', 'escap', 'fanci', 'bridg', 'lager', 'complet', 'form', 'clark', 'also', 'utter', 'wast', 'axi', 'bank', 'hmmm', 'hop', 'muz', 'discuss', 'liao', 'bloodi', 'hell', 'cant', 'believ', 'surnam', 'mr', 'ill', 'clue', 'spanish', 'bath', 'carlo', 'mall', 'stay', 'til', 'smoke', 'moneysymb', 'worth', 'doesnt', 'log', 'spoke', 'maneesha', 'satisfi', 'experi', 'toll', 'lift', 'especi', 'approach', 'studi', 'grnumber', 'trust', 'guy', 'bye', 'handsom', 'toward', 'mummi', 'boytoy', 'awesom', 'minut', 'freephon', 'xma', 'radio', 'ju', 'si', 'uniqu', 'august', 'areyouuniqu', 'leagu', 'touch', 'deal', 'cours', 'howev', 'suggest', 'abl', 'or', 'everi', 'stool', 'settl', 'wishin', 'mrng', 'hav', 'stori', 'hamster', 'dead', 'tmr', 'orchard', 'mrt', 'kate', 'babyjontet', 'found', 'enc', 'buck', 'darlin', 'ive', 'colleg', 'refil', 'success', 'inr', 'decim', 'keralacircl', 'prepaid', 'balanc', 'rs', 'transact', 'id', 'kr', 'goodmorn', 'sleep', 'ga', 'alter', 'dat', 'ericsson', 'oso', 'can', 'not', 'oredi', 'straight', 'dogg', 'connect', 'refund', 'bill', 'shoot', 'big', 'readi', 'bruv', 'break', 'semest', 'noe', 'leh', 'sound', 'head', 'slept', 'past', 'easi', 'sen', 'exam', 'march', 'atm', 'regist', 'os', 'ubandu', 'instal', 'disk', 'import', 'file', 'system', 'repair', 'shop', 'romant', 'nite', 'sceneri', 'tc', 'biz', 'numberoptout', 'numbergbp', 'mtmsgnumber', 'appreci', 'partner', 'career', 'flyng', 'horo', 'star', 'sign', 'g', 'ari', 'compani', 'elama', 'mudyadhu', 'strict', 'teacher', 'bcoz', 'teach', 'conduct', 'gandhipuram', 'walk', 'cross', 'road', 'side', 'street', 'rubber', 'batteri', 'die', 'flirt', 'sam', 'recd', 'thirtyeight', 'penc', 'print', 'upstair', 'closer', 'wil', 'theori', 'argument', 'lose', 'argu', 'kick', 'secret', 'admir', 'reveal', 'tomarrow', 'laptop', 'case', 'pleassssssseeeee', 'tel', 'avent', 'sportsx', 'shine', 'meant', 'although', 'told', 'baig', 'face', 'fr', 'thanx', 'everyth', 'commerci', 'websit', 'slipper', 'kalli', 'bat', 'inning', 'didnt', 'goodnight', 'fix', 'wake', 'dearli', 'congratul', 'cd', 'voucher', 'numbergift', 'music', 'tnc', 'ldew', 'comnumberwinnumberppmxnumberagenumb', 'ranjith', 'cal', 'drpd', 'deeraj', 'deepak', 'numbermin', 'hold', 'bcum', 'angri', 'wid', 'dnt', 'childish', 'true', 'deep', 'affect', 'care', 'kettoda', 'manda', 'up', 'ship', 'numberwk', 'usp', 'lag', 'bribe', 'nipost', 'lemm', 'necessarili', 'expect', 'headin', 'mmm', 'jolt', 'suzi', 'lover', 'video', 'handset', 'anytim', 'unlimit', 'park', 'mini', 'disturb', 'luton', 'ring', 'h', 'horni', 'nake', 'hot', 'unsubscrib', 'dint', 'wana', 'sometm', 'clubnumbermobil', 'choos', 'club', 'clubnumb', 'boxnumb', 'numberwt', 'evo', 'flash', 'jealou', 'singl', 'chart', 'qualiti', 'sort', 'narcot', 'sunni', 'ray', 'blue', 'bay', 'hmv', 'genuin', 'numberperc', 'might', 'object', 'bf', 'rob', 'mack', 'gf', 'theater', 'celebr', 'full', 'swing', 'tool', 'definit', 'gdeve', 'far', 'oki', 'ahold', 'anybodi', 'throw', 'babi', 'cruisin', 'fone', 'jenni', 'ge', 'shall', 'tonit', 'varunnathu', 'edukkukaye', 'raksha', 'ollu', 'sens', 'gautham', 'haf', 'stupid', 'cam', 'buzi', 'accident', 'resend', 'phone', 'upgrad', 'sim', 'card', 'loyalti', 'numberthfeb', 'unless', 'gurl', 'appropri', 'teas', 'plz', 'rose', 'grave', 'bslvyl', 'somebodi', 'high', 'diesel', 'shit', 'shock', 'scari', 'imagin', 'def', 'somewher', 'taxi', 'fridg', 'meal', 'womdarful', 'actor', 'blind', 'numberu', 'roddsnumb', 'aberdeen', 'unit', 'kingdom', 'img', 'w', 'icmbnumbercktznumberrnumb', 'hide', 'remb', 'book', 'jo', 'friendship', 'hang', 'thread', 'themob', 'newest', 'game', 'tone', 'gossip', 'sport', 'fit', 'funki', 'garag', 'key', 'bookshelf', 'accept', 'sister', 'dearnumb', 'bestnumb', 'closnumb', 'lvblefrnd', 'jstfrnd', 'cutefrnd', 'lifpartnr', 'belovd', 'swtheart', 'bstfrnd', 'enemi', 'smart', 'weekli', 'cs', 'winnersclub', 'mnumber', 'numberuz', 'gbpnumber', 'normal', 'rest', 'mylif', 'wot', 'lost', 'made', 'advanc', 'pongal', 'kb', 'power', 'yoga', 'dunno', 'tahan', 'anot', 'lo', 'dude', 'afraid', 'decemb', 'numbermth', 'cake', 'merri', 'christma', 'kiss', 'cud', 'ppl', 'gona', 'lnumber', 'buse', 'waitin', 'pete', 'guild', 'bristol', 'problem', 'track', 'record', 'read', 'women', 'light', 'apo', 'return', 'immedi', 'germani', 'line', 'via', 'access', 'prepay', 'evapor', 'violat', 'privaci', 'steal', 'employ', 'paperwork', 'report', 'supervisor', 'valentin', 'lifetim', 'rcvd', 'custcar', 'daaaaa', 'dine', 'surf', 'post', 'wiv', 'carolin', 'favourit', 'stranger', 'interest', 'two', 'round', 'gudnit', 'practic', 'yiju', 'huim', 'num', 'small', 'prestig', 'shag', 'sextextuk', 'xxuk', 'jeremiah', 'iphon', 'apeshit', 'ever', 'misbehav', 'slap', 'urself', 'fault', 'basic', 'figur', 'alcohol', 'jay', 'weed', 'ish', 'ago', 'wtf', 'onam', 'sirji', 'met', 'insur', 'insha', 'allah', 'rakhesh', 'ex', 'tata', 'aig', 'tissco', 'tayseer', 'current', 'maxim', 'cc', 'hg', 'suitenumb', 'numberland', 'row', 'wnumberjnumberhl', 'unemploy', 'moment', 'st', 'andrew', 'cold', 'chikku', 'db', 'audrey', 'statu', 'forward', 'dawn', 'refresh', 'aliv', 'breath', 'air', 'z', 'update_now', 'motorola', 'sonyericsson', 'bluetooth', 'orang', 'mobileupdnumb', 'callnumberoptout', 'fnumberq', 'discount', 'rpnumber', 'regalportfolio', 'uniform', 'geeee', 'woke', 'cuddl', 'spoil', 'agre', 'will', 'refer', 'tnumber', 'gbp', 'seen', 'recognis', 'lindsay', 'sigh', 'bar', 'ptbo', 'heron', 'payasam', 'rinu', 'bring', 'taught', 'becau', 'he', 'project', 'prabu', 'mistak', 'bodi', 'quit', 'slow', 'guid', 'ovul', 'relax', 'reason', 'followin', 'coupl', 'wallet', 'numbermonth', 'nnumberdx', 'owl', 'lick', 'mm', 'rental', 'mobilesdirect', 'ornumberstoptxt', 'huh', 'sat', 'intro', 'pilat', 'kickbox', 'offic', 'lap', 'shut', 'bout', 'numberish', 'calcul', 'period', 'actual', 'rock', 'put', 'pictur', 'ass', 'facebook', 'al', 'salam', 'wahleykkum', 'share', 'grace', 'god', 'inshah', 'visitor', 'india', 'field', 'quickli', 'administr', 'poli', 'numberxmoneysymbnumberpw', 'emoneysymbnd', 'chechi', 'cream', 'none', 'yep', 'loxahatche', 'tree', 'stoner', 'slightli', 'disastr', 'pm', 'fav', 'wld', 'drink', 'busetop', 'sender', 'fullonsm', 'iron', 'yan', 'jiu', 'skip', 'den', 'blah', 'wendi', 'l', 'boxnumbersknumberch', 'whatsup', 'competit', 'txttowin', 'logo', 'namenumb', 'mobno', 'adam', 'eve', 'yahoo', 'poboxnumberwnumberwq', 'txtno', 'ad', 'poboxnumbernnumbertfnumberp', 'siva', 'hostel', 'aha', 'land', 'voic', 'express', 'sentiment', 'rowdi', 'ful', 'attitud', 'attract']\n",
          "name": "stdout"
        }
      ]
    },
    {
      "metadata": {
        "trusted": true
      },
      "cell_type": "code",
      "source": "#define a find feature method\n\nprint(len(word_features))\ndef find_features(message):\n    words = word_tokenize(message)\n    features = {}\n    for word in word_features:\n        features[word] = word in words\n    return features\n\n#lets observe in a example\nfeatures = find_features(processed[0])\n\nfor key,value in features.items():\n    if value == True:\n        print(key)\n        \n\n    ",
      "execution_count": 16,
      "outputs": [
        {
          "output_type": "stream",
          "text": "1500\ngo\njurong\npoint\ncrazi\navail\nbugi\nn\ngreat\nworld\nla\ne\nbuffet\ncine\ngot\namor\nwat\n",
          "name": "stdout"
        }
      ]
    },
    {
      "metadata": {
        "trusted": true
      },
      "cell_type": "code",
      "source": "processed[0]",
      "execution_count": 17,
      "outputs": [
        {
          "output_type": "execute_result",
          "execution_count": 17,
          "data": {
            "text/plain": "'go jurong point crazi avail bugi n great world la e buffet cine got amor wat'"
          },
          "metadata": {}
        }
      ]
    },
    {
      "metadata": {
        "trusted": true
      },
      "cell_type": "code",
      "source": "#now find features of all the messages\nmessages = zip(processed, Y)\n\n#define a seed for reproducibility\nseed = 1\n#np.random.seed = seed\n#np.random.shuffle(messages)\n\n#call find_features method for all the msgs\nfeaturesets = [(find_features(text), label) for (text, label) in messages]",
      "execution_count": 18,
      "outputs": []
    },
    {
      "metadata": {
        "trusted": true
      },
      "cell_type": "code",
      "source": "#now split trainign and testing data\nfrom sklearn import model_selection\n\ntraining, testing = model_selection.train_test_split(featuresets, test_size = 0.25, random_state = seed)\n\nprint(len(training))\nprint(len(testing))",
      "execution_count": 19,
      "outputs": [
        {
          "output_type": "stream",
          "text": "4179\n1393\n",
          "name": "stdout"
        }
      ]
    },
    {
      "metadata": {
        "trusted": true
      },
      "cell_type": "code",
      "source": "#scikit learn classfiers with nltk\n\nfrom sklearn.neighbors import KNeighborsClassifier\nfrom sklearn.tree import DecisionTreeClassifier\nfrom sklearn.ensemble import RandomForestClassifier\nfrom sklearn.linear_model import LogisticRegression, SGDClassifier\nfrom sklearn.naive_bayes import MultinomialNB\nfrom sklearn.svm import SVC\nfrom sklearn.metrics import classification_report, accuracy_score, confusion_matrix",
      "execution_count": 20,
      "outputs": []
    },
    {
      "metadata": {
        "trusted": true
      },
      "cell_type": "code",
      "source": "#defining names of the models\n\nnames = ['K nearest neighbors', 'Decision tree', 'Random Forest', 'Logistic regression', 'SGD Classifier', 'Naive bayes', 'linear svm']\n\nclassifier = [\n    KNeighborsClassifier(),\n    DecisionTreeClassifier(),\n    RandomForestClassifier(),\n    LogisticRegression(max_iter = 100),\n    SGDClassifier(),\n    MultinomialNB(),\n    SVC(kernel = 'linear')\n]\n\nmodels = zip(names, classifier)\nprint(models)",
      "execution_count": 21,
      "outputs": [
        {
          "output_type": "stream",
          "text": "<zip object at 0x7f8319a62d88>\n",
          "name": "stdout"
        }
      ]
    },
    {
      "metadata": {
        "trusted": true
      },
      "cell_type": "code",
      "source": "#wrap models in nltk\nfrom nltk.classify.scikitlearn import SklearnClassifier\n\nfor name, model in models:\n    nltk_model = SklearnClassifier(model)\n    nltk_model.train(training)\n    accuracy = nltk.classify.accuracy(nltk_model, testing)\n    print('{}:{}'.format(name, accuracy))",
      "execution_count": 22,
      "outputs": [
        {
          "output_type": "stream",
          "text": "K nearest neighbors:0.9440057430007178\nDecision tree:0.9770279971284996\n",
          "name": "stdout"
        },
        {
          "output_type": "stream",
          "text": "/home/nbuser/anaconda3_501/lib/python3.6/site-packages/sklearn/ensemble/forest.py:246: FutureWarning: The default value of n_estimators will change from 10 in version 0.20 to 100 in 0.22.\n  \"10 in version 0.20 to 100 in 0.22.\", FutureWarning)\n",
          "name": "stderr"
        },
        {
          "output_type": "stream",
          "text": "Random Forest:0.9842067480258435\n",
          "name": "stdout"
        },
        {
          "output_type": "stream",
          "text": "/home/nbuser/anaconda3_501/lib/python3.6/site-packages/sklearn/linear_model/logistic.py:433: FutureWarning: Default solver will be changed to 'lbfgs' in 0.22. Specify a solver to silence this warning.\n  FutureWarning)\n",
          "name": "stderr"
        },
        {
          "output_type": "stream",
          "text": "Logistic regression:0.9892318736539842\n",
          "name": "stdout"
        },
        {
          "output_type": "stream",
          "text": "/home/nbuser/anaconda3_501/lib/python3.6/site-packages/sklearn/linear_model/stochastic_gradient.py:166: FutureWarning: max_iter and tol parameters have been added in SGDClassifier in 0.19. If both are left unset, they default to max_iter=5 and tol=None. If tol is not None, max_iter defaults to max_iter=1000. From 0.21, default max_iter will be 1000, and default tol will be 1e-3.\n  FutureWarning)\n",
          "name": "stderr"
        },
        {
          "output_type": "stream",
          "text": "SGD Classifier:0.9863603732950467\nNaive bayes:0.9856424982053122\nlinear svm:0.9870782483847811\n",
          "name": "stdout"
        }
      ]
    },
    {
      "metadata": {
        "trusted": true
      },
      "cell_type": "code",
      "source": "#ensemble method - voting classifier\n\nfrom sklearn.ensemble import VotingClassifier\n\nnames = ['K nearest neighbors', 'Decision tree', 'Random Forest', 'Logistic regression', 'SGD Classifier', 'Naive bayes', 'linear svm']\n\nclassifier = [\n    KNeighborsClassifier(),\n    DecisionTreeClassifier(),\n    RandomForestClassifier(),\n    LogisticRegression(max_iter = 100),\n    SGDClassifier(),\n    MultinomialNB(),\n    SVC(kernel = 'linear')\n]\nmodels = zip(names, classifier)\nmodels = list(models)\n\nnltk_ensemble = SklearnClassifier(VotingClassifier(estimators= models, voting = 'hard', n_jobs = -1 ))#-1 staes use all availble cores\nnltk_ensemble.train(training)\naccuracy = nltk.classify.accuracy(nltk_ensemble, testing)\nprint(accuracy)\n",
      "execution_count": 24,
      "outputs": [
        {
          "output_type": "stream",
          "text": "0.9885139985642498\n",
          "name": "stdout"
        }
      ]
    },
    {
      "metadata": {
        "trusted": true
      },
      "cell_type": "code",
      "source": "#make class labels and prediction for testing set\ntxt_features, labels = zip(*testing)\nprediction = nltk_ensemble.classify_many(txt_features)\n",
      "execution_count": 25,
      "outputs": []
    },
    {
      "metadata": {
        "trusted": true
      },
      "cell_type": "code",
      "source": "#print a confusion matrix and classification  report\nprint(classification_report(labels, prediction))\n\npd.DataFrame(\n    confusion_matrix(labels, prediction),\n    index = [['actual', 'actual'], ['ham', 'spam']],\n    columns = [['predicted', 'predicted'], ['ham', 'spam']])",
      "execution_count": 26,
      "outputs": [
        {
          "output_type": "stream",
          "text": "              precision    recall  f1-score   support\n\n           0       0.99      1.00      0.99      1208\n           1       0.98      0.93      0.96       185\n\n   micro avg       0.99      0.99      0.99      1393\n   macro avg       0.99      0.96      0.97      1393\nweighted avg       0.99      0.99      0.99      1393\n\n",
          "name": "stdout"
        },
        {
          "output_type": "execute_result",
          "execution_count": 26,
          "data": {
            "text/html": "<div>\n<style scoped>\n    .dataframe tbody tr th:only-of-type {\n        vertical-align: middle;\n    }\n\n    .dataframe tbody tr th {\n        vertical-align: top;\n    }\n\n    .dataframe thead tr th {\n        text-align: left;\n    }\n</style>\n<table border=\"1\" class=\"dataframe\">\n  <thead>\n    <tr>\n      <th></th>\n      <th></th>\n      <th colspan=\"2\" halign=\"left\">predicted</th>\n    </tr>\n    <tr>\n      <th></th>\n      <th></th>\n      <th>ham</th>\n      <th>spam</th>\n    </tr>\n  </thead>\n  <tbody>\n    <tr>\n      <th rowspan=\"2\" valign=\"top\">actual</th>\n      <th>ham</th>\n      <td>1205</td>\n      <td>3</td>\n    </tr>\n    <tr>\n      <th>spam</th>\n      <td>13</td>\n      <td>172</td>\n    </tr>\n  </tbody>\n</table>\n</div>",
            "text/plain": "            predicted     \n                  ham spam\nactual ham       1205    3\n       spam        13  172"
          },
          "metadata": {}
        }
      ]
    },
    {
      "metadata": {
        "trusted": true
      },
      "cell_type": "code",
      "source": "",
      "execution_count": null,
      "outputs": []
    }
  ],
  "metadata": {
    "kernelspec": {
      "name": "python36",
      "display_name": "Python 3.6",
      "language": "python"
    },
    "language_info": {
      "mimetype": "text/x-python",
      "nbconvert_exporter": "python",
      "name": "python",
      "pygments_lexer": "ipython3",
      "version": "3.6.6",
      "file_extension": ".py",
      "codemirror_mode": {
        "version": 3,
        "name": "ipython"
      }
    }
  },
  "nbformat": 4,
  "nbformat_minor": 2
}